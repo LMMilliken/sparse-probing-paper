{
 "cells": [
  {
   "cell_type": "code",
   "execution_count": 1,
   "metadata": {},
   "outputs": [],
   "source": [
    "import datasets\n",
    "from datasets import load_dataset\n",
    "import matplotlib.pyplot as plt\n",
    "\n",
    "%matplotlib inline"
   ]
  },
  {
   "cell_type": "code",
   "execution_count": 33,
   "metadata": {},
   "outputs": [
    {
     "name": "stdout",
     "output_type": "stream",
     "text": [
      "/Users/wesgurnee/Documents/mechint/sparse_probing/sparse-probing\n"
     ]
    }
   ],
   "source": []
  },
  {
   "cell_type": "code",
   "execution_count": 2,
   "metadata": {},
   "outputs": [
    {
     "name": "stderr",
     "output_type": "stream",
     "text": [
      "Found cached dataset the_pile (/Users/wesgurnee/.cache/huggingface/datasets/the_pile/europarl/0.0.0/cda022d6ce7fe49bfaa907fa9c25ef8d393c005cb339c72994d254c9319828e0)\n"
     ]
    }
   ],
   "source": [
    "\n",
    "\n",
    "europarl_dataset = datasets.load_dataset(\n",
    "    \"the_pile\", \"europarl\", split=\"train\")"
   ]
  },
  {
   "cell_type": "code",
   "execution_count": 5,
   "metadata": {},
   "outputs": [
    {
     "data": {
      "text/plain": [
       "Dataset({\n",
       "    features: ['text', 'meta'],\n",
       "    num_rows: 69814\n",
       "})"
      ]
     },
     "execution_count": 5,
     "metadata": {},
     "output_type": "execute_result"
    }
   ],
   "source": [
    "europarl_dataset"
   ]
  },
  {
   "cell_type": "code",
   "execution_count": 9,
   "metadata": {},
   "outputs": [],
   "source": [
    "def parse_lang(example):\n",
    "    try:\n",
    "        return eval(example['meta'])['language']\n",
    "    except:\n",
    "        print(example['meta'])"
   ]
  },
  {
   "cell_type": "code",
   "execution_count": 11,
   "metadata": {},
   "outputs": [],
   "source": [
    "langs = [eval(sample['meta'])['language']\n",
    " for sample in europarl_dataset]\n",
    "europarl_dataset.remove_columns(['meta'])\n",
    "europarl_dataset.add_column('lang', langs)"
   ]
  },
  {
   "cell_type": "code",
   "execution_count": 20,
   "metadata": {},
   "outputs": [
    {
     "data": {
      "text/plain": [
       "array([0, 1, 2])"
      ]
     },
     "execution_count": 20,
     "metadata": {},
     "output_type": "execute_result"
    }
   ],
   "source": [
    "np.arange(0, 3)"
   ]
  },
  {
   "cell_type": "code",
   "execution_count": null,
   "metadata": {},
   "outputs": [],
   "source": []
  },
  {
   "cell_type": "code",
   "execution_count": 15,
   "metadata": {},
   "outputs": [],
   "source": [
    "import numpy as np\n",
    "lc, c = np.unique(np.array(langs), return_counts=True)"
   ]
  },
  {
   "cell_type": "code",
   "execution_count": 51,
   "metadata": {},
   "outputs": [],
   "source": [
    "NATURAL_LANGS_UNABBREVIATED = {\n",
    "    'bg': 'Bulgarian',\n",
    "    'de': 'German',\n",
    "    'es': 'Spanish',\n",
    "    'fr': 'French',\n",
    "    'lt': 'Lithuanian',\n",
    "    'pl': 'Polish',\n",
    "    'sk': 'Slovak',\n",
    "    'da': 'Danish',\n",
    "    'en': 'English',\n",
    "    'fi': 'Finnish',\n",
    "    'it': 'Italian',\n",
    "    'nl': 'Dutch',\n",
    "    'ro': 'Romanian',\n",
    "    'sv': 'Swedish',\n",
    "    'cs': 'Czech',\n",
    "    'el': 'Greek',\n",
    "    'et': 'Estonian',\n",
    "    'hu': 'Hungarian',\n",
    "    'lv': 'Lativian',\n",
    "    'pt': 'Portuguese',\n",
    "    'sl': 'Slovenian'\n",
    "}"
   ]
  },
  {
   "cell_type": "code",
   "execution_count": 56,
   "metadata": {},
   "outputs": [
    {
     "name": "stdout",
     "output_type": "stream",
     "text": [
      "0 es: 4216   total: 4216   Spanish\n",
      "1 en: 4199   total: 8415   English\n",
      "2 fr: 4144   total: 12559   French\n",
      "3 nl: 4142   total: 16701   Dutch\n",
      "4 it: 4136   total: 20837   Italian\n",
      "5 el: 4078   total: 24915   Greek\n",
      "6 de: 4074   total: 28989   German\n",
      "7 pt: 3989   total: 32978   Portuguese\n",
      "8 sv: 3974   total: 36952   Swedish\n",
      "9 fi: 3926   total: 40878   Finnish\n",
      "10 da: 3902   total: 44780   Danish\n",
      "11 pl: 2763   total: 47543   Polish\n",
      "12 lt: 2757   total: 50300   Lithuanian\n",
      "13 hu: 2730   total: 53030   Hungarian\n",
      "14 cs: 2727   total: 55757   Czech\n",
      "15 lv: 2723   total: 58480   Lativian\n",
      "16 et: 2708   total: 61188   Estonian\n",
      "17 sk: 2706   total: 63894   Slovak\n",
      "18 sl: 2644   total: 66538   Slovenian\n",
      "19 ro: 1655   total: 68193   Romanian\n",
      "20 bg: 1621   total: 69814   Bulgarian\n"
     ]
    }
   ],
   "source": [
    "total = 0\n",
    "new_dict = {}\n",
    "for i, ix in enumerate(np.argsort(c)[::-1]):\n",
    "    total += c[ix]\n",
    "    print(f\"{i} {lc[ix]}: {c[ix]}   total: {total}   {NATURAL_LANGS_UNABBREVIATED[lc[ix]]}\")\n",
    "    if i <= 8:\n",
    "        new_dict[lc[ix]] = i+1\n"
   ]
  },
  {
   "cell_type": "code",
   "execution_count": 57,
   "metadata": {},
   "outputs": [
    {
     "data": {
      "text/plain": [
       "{'es': 1,\n",
       " 'en': 2,\n",
       " 'fr': 3,\n",
       " 'nl': 4,\n",
       " 'it': 5,\n",
       " 'el': 6,\n",
       " 'de': 7,\n",
       " 'pt': 8,\n",
       " 'sv': 9}"
      ]
     },
     "execution_count": 57,
     "metadata": {},
     "output_type": "execute_result"
    }
   ],
   "source": [
    "new_dict"
   ]
  },
  {
   "cell_type": "code",
   "execution_count": 29,
   "metadata": {},
   "outputs": [
    {
     "data": {
      "text/plain": [
       "{'es': 1,\n",
       " 'en': 2,\n",
       " 'fr': 3,\n",
       " 'nl': 4,\n",
       " 'it': 5,\n",
       " 'el': 6,\n",
       " 'de': 7,\n",
       " 'pt': 8,\n",
       " 'sv': 9,\n",
       " 'fi': 10,\n",
       " 'da': 11,\n",
       " 'pl': 12}"
      ]
     },
     "execution_count": 29,
     "metadata": {},
     "output_type": "execute_result"
    }
   ],
   "source": [
    "new_dict"
   ]
  },
  {
   "cell_type": "code",
   "execution_count": 47,
   "metadata": {},
   "outputs": [],
   "source": [
    "%reload_ext autoreload\n",
    "%autoreload 2\n",
    "from  probing_datasets.language_id import *\n",
    "NATURAL_LANGS_UNABBREVIATED = {\n",
    "    'Bulgarian': 1,\n",
    "    'German': 2,\n",
    "    'Spanish': 3,\n",
    "    'French': 4,\n",
    "    'Lithuanian': 5,\n",
    "    'Polish': 6,\n",
    "    'Slovak': 7,\n",
    "    'Danish': 8,\n",
    "    'English': 9,\n",
    "    'Finnish': 10,\n",
    "    'Italian': 11,\n",
    "    'Dutch': 12,\n",
    "    'Romanian': 13,\n",
    "    'Swedish': 14,\n",
    "    'Czech': 15,\n",
    "    'Greek': 16,\n",
    "    'Estonian': 17,\n",
    "    'Hungarian': 18,\n",
    "    'Lativian': 19,\n",
    "    'Portuguese': 20,\n",
    "    'Slovenian': 21\n",
    "}\n"
   ]
  },
  {
   "cell_type": "code",
   "execution_count": 48,
   "metadata": {},
   "outputs": [
    {
     "data": {
      "text/plain": [
       "{'bg': 'Bulgarian',\n",
       " 'de': 'German',\n",
       " 'es': 'Spanish',\n",
       " 'fr': 'French',\n",
       " 'lt': 'Lithuanian',\n",
       " 'pl': 'Polish',\n",
       " 'sk': 'Slovak',\n",
       " 'da': 'Danish',\n",
       " 'en': 'English',\n",
       " 'fi': 'Finnish',\n",
       " 'it': 'Italian',\n",
       " 'nl': 'Dutch',\n",
       " 'ro': 'Romanian',\n",
       " 'sv': 'Swedish',\n",
       " 'cs': 'Czech',\n",
       " 'el': 'Greek',\n",
       " 'et': 'Estonian',\n",
       " 'hu': 'Hungarian',\n",
       " 'lv': 'Lativian',\n",
       " 'pt': 'Portuguese',\n",
       " 'sl': 'Slovenian'}"
      ]
     },
     "execution_count": 48,
     "metadata": {},
     "output_type": "execute_result"
    }
   ],
   "source": [
    "inverted_dict = {v: k for k, v in NATURAL_LANGS_UNABBREVIATED.items()}\n",
    "{k: inverted_dict[v] for k, v in NATURAL_LANGS.items()}"
   ]
  },
  {
   "cell_type": "code",
   "execution_count": 38,
   "metadata": {},
   "outputs": [
    {
     "data": {
      "text/plain": [
       "20"
      ]
     },
     "execution_count": 38,
     "metadata": {},
     "output_type": "execute_result"
    }
   ],
   "source": [
    "len(inverted_dict)"
   ]
  },
  {
   "cell_type": "code",
   "execution_count": null,
   "metadata": {},
   "outputs": [],
   "source": [
    "import numpy as np\n",
    "np.unique(np.array(euroParldataset['meta']), return_counts = True)"
   ]
  },
  {
   "cell_type": "markdown",
   "metadata": {},
   "source": []
  },
  {
   "cell_type": "code",
   "execution_count": 3,
   "metadata": {},
   "outputs": [
    {
     "name": "stderr",
     "output_type": "stream",
     "text": [
      "No config specified, defaulting to: the_pile/all\n"
     ]
    }
   ],
   "source": [
    "pile = datasets.load_dataset('the_pile', split=\"test\", streaming=True)"
   ]
  },
  {
   "cell_type": "code",
   "execution_count": 4,
   "metadata": {},
   "outputs": [
    {
     "name": "stdout",
     "output_type": "stream",
     "text": [
      "['all', 'enron_emails', 'europarl', 'free_law', 'hacker_news', 'nih_exporter', 'pubmed', 'pubmed_central', 'ubuntu_irc', 'uspto']\n"
     ]
    }
   ],
   "source": [
    "from datasets import get_dataset_config_names\n",
    "configs = get_dataset_config_names(\"the_pile\")\n",
    "print(configs)"
   ]
  },
  {
   "cell_type": "code",
   "execution_count": 5,
   "metadata": {},
   "outputs": [
    {
     "data": {
      "text/plain": [
       "['train']"
      ]
     },
     "execution_count": 5,
     "metadata": {},
     "output_type": "execute_result"
    }
   ],
   "source": [
    "from datasets import get_dataset_split_names\n",
    "get_dataset_split_names(\"the_pile\", 'europarl')"
   ]
  },
  {
   "cell_type": "code",
   "execution_count": 5,
   "metadata": {},
   "outputs": [],
   "source": [
    "# copied from codelang\n",
    "LANG_THRESHOLD = 0.8\n",
    "N_SEQS = 100_000"
   ]
  },
  {
   "cell_type": "code",
   "execution_count": 6,
   "metadata": {},
   "outputs": [
    {
     "name": "stderr",
     "output_type": "stream",
     "text": [
      "No config specified, defaulting to: the_pile/all\n"
     ]
    }
   ],
   "source": [
    "pile = datasets.load_dataset('the_pile', split=\"test\", streaming=True)\n",
    "europarl_pile = pile.filter(lambda x: x['meta']['pile_set_name'] == 'EuroParl')\n",
    "# creating subset\n",
    "europarl_subset = europarl_pile.take(N_SEQS)\n",
    "europarl_subset = datasets.Dataset.from_list(list(europarl_subset))"
   ]
  },
  {
   "cell_type": "code",
   "execution_count": 7,
   "metadata": {},
   "outputs": [
    {
     "data": {
      "text/plain": [
       "157"
      ]
     },
     "execution_count": 7,
     "metadata": {},
     "output_type": "execute_result"
    }
   ],
   "source": [
    "len(europarl_subset)"
   ]
  },
  {
   "cell_type": "code",
   "execution_count": null,
   "metadata": {},
   "outputs": [],
   "source": []
  },
  {
   "cell_type": "code",
   "execution_count": null,
   "metadata": {},
   "outputs": [],
   "source": []
  },
  {
   "cell_type": "code",
   "execution_count": 40,
   "metadata": {},
   "outputs": [
    {
     "data": {
      "text/plain": [
       "array(['ArXiv', 'BookCorpus2', 'Books3', 'DM Mathematics', 'Enron Emails',\n",
       "       'EuroParl', 'FreeLaw', 'Github', 'Gutenberg (PG-19)', 'HackerNews',\n",
       "       'NIH ExPorter', 'OpenSubtitles', 'OpenWebText2', 'PhilPapers',\n",
       "       'Pile-CC', 'PubMed Abstracts', 'PubMed Central', 'StackExchange',\n",
       "       'USPTO Backgrounds', 'Ubuntu IRC', 'Wikipedia (en)',\n",
       "       'YoutubeSubtitles'], dtype='<U17')"
      ]
     },
     "execution_count": 40,
     "metadata": {},
     "output_type": "execute_result"
    }
   ],
   "source": [
    "import numpy as np\n",
    "europarl_subset['meta']\n",
    "\n",
    "np.unique(np.array([d['pile_set_name'] for d in europarl_subset['meta']]))"
   ]
  },
  {
   "cell_type": "code",
   "execution_count": 45,
   "metadata": {},
   "outputs": [
    {
     "data": {
      "text/plain": [
       "Dataset({\n",
       "    features: ['text', 'meta'],\n",
       "    num_rows: 8\n",
       "})"
      ]
     },
     "execution_count": 45,
     "metadata": {},
     "output_type": "execute_result"
    }
   ],
   "source": [
    "europarl_subset"
   ]
  },
  {
   "cell_type": "code",
   "execution_count": 51,
   "metadata": {},
   "outputs": [
    {
     "name": "stdout",
     "output_type": "stream",
     "text": [
      "Requirement already satisfied: langdetect in /Users/katherineharvey/Documents/sparse-probing/sparse-probing/sparprob/lib/python3.9/site-packages (1.0.9)\n",
      "Requirement already satisfied: six in /Users/katherineharvey/Documents/sparse-probing/sparse-probing/sparprob/lib/python3.9/site-packages (from langdetect) (1.15.0)\n",
      "\u001b[33mWARNING: You are using pip version 22.0.4; however, version 22.3.1 is available.\n",
      "You should consider upgrading via the '/Users/katherineharvey/Documents/sparse-probing/sparse-probing/sparprob/bin/python -m pip install --upgrade pip' command.\u001b[0m\u001b[33m\n",
      "\u001b[0m"
     ]
    }
   ],
   "source": [
    "!pip install langdetect"
   ]
  },
  {
   "cell_type": "code",
   "execution_count": 65,
   "metadata": {},
   "outputs": [],
   "source": [
    "from langdetect import detect \n",
    "dataset_language = []\n",
    "detected_language = []\n",
    "for i in range(0, 67000, 100):\n",
    "    dataset_language.append(eval(euroParldataset[i]['meta'])['language'])\n",
    "    detected_language.append(detect(euroParldataset[i]['text']))"
   ]
  },
  {
   "cell_type": "code",
   "execution_count": 71,
   "metadata": {},
   "outputs": [
    {
     "data": {
      "text/plain": [
       "1.0"
      ]
     },
     "execution_count": 71,
     "metadata": {},
     "output_type": "execute_result"
    }
   ],
   "source": [
    "(np.array(dataset_language) == np.array(detected_language)).mean()"
   ]
  },
  {
   "cell_type": "code",
   "execution_count": 59,
   "metadata": {},
   "outputs": [
    {
     "data": {
      "text/plain": [
       "'cs'"
      ]
     },
     "execution_count": 59,
     "metadata": {},
     "output_type": "execute_result"
    }
   ],
   "source": [
    "eval(euroParldataset[0]['meta'])['language']"
   ]
  },
  {
   "cell_type": "code",
   "execution_count": 10,
   "metadata": {},
   "outputs": [
    {
     "name": "stdout",
     "output_type": "stream",
     "text": [
      "Downloading and preparing dataset the_pile/europarl to /Users/wesgurnee/.cache/huggingface/datasets/the_pile/europarl/0.0.0/cda022d6ce7fe49bfaa907fa9c25ef8d393c005cb339c72994d254c9319828e0...\n"
     ]
    },
    {
     "data": {
      "application/vnd.jupyter.widget-view+json": {
       "model_id": "8f999f5460564408becc9901999351fd",
       "version_major": 2,
       "version_minor": 0
      },
      "text/plain": [
       "Downloading data files:   0%|          | 0/1 [00:00<?, ?it/s]"
      ]
     },
     "metadata": {},
     "output_type": "display_data"
    },
    {
     "data": {
      "application/vnd.jupyter.widget-view+json": {
       "model_id": "d9e88bd37c424a31b26f0fc5bb42cf7b",
       "version_major": 2,
       "version_minor": 0
      },
      "text/plain": [
       "Downloading data:   0%|          | 0.00/1.48G [00:00<?, ?B/s]"
      ]
     },
     "metadata": {},
     "output_type": "display_data"
    },
    {
     "data": {
      "application/vnd.jupyter.widget-view+json": {
       "model_id": "f8c63f42b52f43c891b4b8041dbb8b9f",
       "version_major": 2,
       "version_minor": 0
      },
      "text/plain": [
       "Generating train split: 0 examples [00:00, ? examples/s]"
      ]
     },
     "metadata": {},
     "output_type": "display_data"
    },
    {
     "name": "stdout",
     "output_type": "stream",
     "text": [
      "Dataset the_pile downloaded and prepared to /Users/wesgurnee/.cache/huggingface/datasets/the_pile/europarl/0.0.0/cda022d6ce7fe49bfaa907fa9c25ef8d393c005cb339c72994d254c9319828e0. Subsequent calls will reuse this data.\n",
      "Dataset({\n",
      "    features: ['text', 'meta'],\n",
      "    num_rows: 69814\n",
      "})\n"
     ]
    }
   ],
   "source": [
    "euroParldataset = load_dataset(\"the_pile\", \"europarl\", split=\"train\")\n",
    "print(euroParldataset)"
   ]
  },
  {
   "cell_type": "code",
   "execution_count": 12,
   "metadata": {},
   "outputs": [
    {
     "data": {
      "text/plain": [
       "(array([\"{'language': 'bg'}\", \"{'language': 'cs'}\", \"{'language': 'da'}\",\n",
       "        \"{'language': 'de'}\", \"{'language': 'el'}\", \"{'language': 'en'}\",\n",
       "        \"{'language': 'es'}\", \"{'language': 'et'}\", \"{'language': 'fi'}\",\n",
       "        \"{'language': 'fr'}\", \"{'language': 'hu'}\", \"{'language': 'it'}\",\n",
       "        \"{'language': 'lt'}\", \"{'language': 'lv'}\", \"{'language': 'nl'}\",\n",
       "        \"{'language': 'pl'}\", \"{'language': 'pt'}\", \"{'language': 'ro'}\",\n",
       "        \"{'language': 'sk'}\", \"{'language': 'sl'}\", \"{'language': 'sv'}\"],\n",
       "       dtype='<U18'),\n",
       " array([1621, 2727, 3902, 4074, 4078, 4199, 4216, 2708, 3926, 4144, 2730,\n",
       "        4136, 2757, 2723, 4142, 2763, 3989, 1655, 2706, 2644, 3974]))"
      ]
     },
     "execution_count": 12,
     "metadata": {},
     "output_type": "execute_result"
    }
   ],
   "source": [
    "import numpy as np\n",
    "np.unique(np.array(euroParldataset['meta']), return_counts = True)"
   ]
  },
  {
   "cell_type": "code",
   "execution_count": null,
   "metadata": {},
   "outputs": [],
   "source": []
  },
  {
   "cell_type": "code",
   "execution_count": null,
   "metadata": {},
   "outputs": [],
   "source": []
  },
  {
   "cell_type": "code",
   "execution_count": null,
   "metadata": {},
   "outputs": [],
   "source": []
  },
  {
   "cell_type": "code",
   "execution_count": 77,
   "metadata": {},
   "outputs": [
    {
     "data": {
      "text/plain": [
       "21"
      ]
     },
     "execution_count": 77,
     "metadata": {},
     "output_type": "execute_result"
    }
   ],
   "source": [
    "len(np.unique(np.array(euroParldataset['meta'])))"
   ]
  },
  {
   "cell_type": "code",
   "execution_count": 7,
   "metadata": {},
   "outputs": [
    {
     "data": {
      "text/plain": [
       "{'text': Value(dtype='string', id=None),\n",
       " 'meta': Value(dtype='string', id=None)}"
      ]
     },
     "execution_count": 7,
     "metadata": {},
     "output_type": "execute_result"
    }
   ],
   "source": [
    "euroParldataset.features"
   ]
  },
  {
   "cell_type": "code",
   "execution_count": 8,
   "metadata": {},
   "outputs": [
    {
     "data": {
      "text/plain": [
       "'Společný systém daně z přidané hodnoty, pokud jde o trvání povinnosti dodržovat minimální základní sazbu (rozprava) \\nPředsedající\\nDalším bodem je zpráva pana Casy, jménem Hospodářského a měnového výboru, týkající se návrhu směrnice Rady, kterou se mění směrnice 2006/112/ES o společném systému daně z přidané hodnoty, pokud jde o trvání povinnosti dodržovat minimální základní sazbu - C7-0173/2010 -.\\nDavid Casa\\nPaní předsedající, nejprve bych chtěl tuto sněmovnu upozornit na skutečnost, že v Hospodářském a měnovém výboru aktuálně probíhá důležité hlasování, a proto musím omluvit mnohé poslance, kteří zde nebudou přítomni, neboť máme zpoždění a proces hlasování teprve právě začal.\\nJak předseda správně uvedl, tato zpráva, kterou jsem vypracoval, je nesmírně důležitá, neboť se týká systému DPH, který se snažíme změnit. Nyní, jak každý ví, už nějaký čas probíhají jednání s cílem změnit dosavadní systém DPH, nicméně žádného významného pokroku zatím nebylo dosaženo. Platnost přechodného systému, který se používá od roku 1993, je neustále prodlužována a všichni víme, že tato situace je neudržitelná a že je třeba najít nějaké trvalejší řešení.\\nSoučasný přechodný systém nepřináší potřebné výsledky, pokud jde o vnitřní trh. Tento systém snižuje efektivitu podnikání a také omezuje jeho účinnost mezi hranicemi. Také je znepokojující, že v důsledku tohoto systému vznikají složité formy podvodů, jako jsou například kolotočové podvody, o nichž jsme diskutovali nedávno právě v tomto Parlamentu. Tyto podvody mají závažný negativní dopad na příjem členských států. Vyřešit tuto situaci není jednoduché a správné řešení je možno přijmout teprve po důkladné diskusi a dlouhém období konzultací.\\nVšichni jsme si vědomi nedávného závazku Komise, že v blízké budoucnosti vypracuje zelenou knihu, aby podnítila diskusi na toto téma. Zpráva, za kterou nesu odpovědnost, vyzývá Komisi, aby zajistila účelnost celého procesu, a požaduje, abychom udělali vše, co je v našich silách, a zajistili za prvé, aby nový systém zlepšil účinnost vnitřního trhu, za druhé, aby tento nový systém snížil zatížení podnikatelského sektoru, a za třetí, aby co nejúčinněji bojoval proti podvodům.\\nTato zpráva, kterou, jak víme, již schválil Hospodářský a měnový výbor, rovněž vyzývá Komisi, aby do roku 2013 zajistila zveřejnění konkrétních návrhů. Dovolte mi, abych tento poslední bod zdůraznil. Nenavrhuji, že by měli mít nějaký systém, který bude do roku 2013 přijat a zaveden. Říkám, že do roku 2013 musí být zveřejněny návrhy.\\nPřál bych si však, a domnívám se, že vyjadřuji názor kolegů v tomto sále, aby tento nový systém začal fungovat před vypršením platnosti tohoto právního předpisu, aby současný přechodný systém nebylo třeba znovu prodlužovat. I když schválíme prodloužení nového systému, očekáváme, že v reakci na tyto nové návrhy budou okamžitě podniknuty konkrétní kroky.\\nChtěl bych svým kolegům, především stínovým zpravodajům, za tuto zprávu poděkovat a odhaduji, že na toto téma proběhnou plamennější diskuse, které vyústí v rychlé řešení.\\nAlgirdas Šemeta\\nčlen Komise. - Pane předsedající, chtěl bych poděkovat Evropskému parlamentu a především Davidu Casovi za jeho konstruktivní a pohotovou zprávu o návrhu Komise na prodloužení platnosti stávajících pravidel týkajících se minimální základní sazby DPH o pět let. Tento návrh je jednoduchý a není kontroverzní.\\nPohotové stanovisko Evropského parlamentu k návrhu Komise umožní, aby Rada přijala návrh do konce roku - právě včas, než vyprší platnost stávajícího pravidla. Návrh byl samozřejmě již projednán v pracovní skupině Rady. Rychlému schválení nebrání žádná překážka.\\nJak uvedl David Casa, návrh Komise poskytne podnikům potřebnou právní jistotu a umožní další zhodnocení odpovídající výše základní sazby DPH na úrovni EU.\\nKomise nepochybně velmi brzy zahájí širokou diskusi o budoucnosti DPH s cílem posoudit a řešit řadu nedostatků v systému DPH Evropské unie, jako je například jeho složitost, vysoké administrativní zatížení podniků a podvody.\\nDo konce roku navrhnu svým kolegům v Komisi zveřejnění zelené knihy o zhodnocení stávajícího systému a výhodnějších cestách vpřed do budoucnosti. Těším se na reakce na taková témata, jako jak dosáhnout jednoduššího, pevnějšího a modernějšího systému DPH a jak snížit náklady na sběr údajů a na plnění povinností pro podniky, zejména pro malé a střední, a zároveň omezit podvody a zajistit pružnost pro členské státy. Na základě získaných výsledků vymezí Komise svou budoucí politiku v oblasti DPH ve sdělení o cestě vpřed na konci roku 2011.\\nPředložené pozměňovací návrhy jasně dokládají zájem Parlamentu o účast v této diskusi o budoucí strategii DPH. Vítám tento projev zájmu a doufám, že později spolu s vámi povedeme o této důležité otázce plodnou rozpravu. Nicméně si myslím, že tyto pozměňovací návrhy jsou mimo rámec dnes projednávaného návrhu, který je omezen na prodloužené období, ve kterém platí minimální základní sazby. Kromě toho některé z pozměňovacích návrhů předjímají rozpravu, kterou bychom měli vést na základě zelené knihy. To se týká zejména pozměňovacího návrhu, který požaduje, aby Komise předložila návrh pravidel o sazbách DPH v konečné podobě do roku 2013.\\nV této fázi se Komise nemůže zavázat k nějakému termínu předložení návrhu o sazbách DPH. Nemůže předvídat výsledek konzultací, jejichž tematický záběr bude širší než jen sazby DPH. Doufám, že tato konzultace poskytne jasnou představu o prioritách pro budoucnost DPH. Plánování budoucích legislativních návrhů ze strany Komise bude proto záviset do značné míry na výsledku této konzultace.\\nSari Essayah\\nPane předsedající, návrh Komise se soustředí na to, aby umožnil fungování stávajícího systému až do roku 2015, a snaží se omezit rozpětí daňové sazby na 10 %. To je velmi důležité, protože jinak by v některých odvětvích mohla být narušena hospodářská soutěž mezi členskými státy.\\nTo hlavní v této zprávě Parlamentu je představa, že zanedlouho Komise zahájí rozsáhlý program konzultací s cílem vytvořit nový systém daně z přidané hodnoty. Pozměňovací návrhy, které poslanci předložili, jsou podle mého názoru, na rozdíl od názoru komisaře, velmi důležité, neboť i v této fázi chceme určit směr, kterým se tento nový systém DPH, jak doufáme, bude ubírat. V budoucnu musíme být schopni snížit administrativní zatížení související s DPH a co nejvíce usnadnit situaci malým a středním podnikům, zejména při vyhotovení zpráv, a zároveň účinně bojovat proti podvodům v oblasti DPH.\\nVe veřejné ekonomice v mnoha evropských zemích panuje v současné době zmatek a jedním z navrhovaných řešení je zvýšení sazby DPH. To však vůbec nepomůže v zemích, kde se placení DPH běžně obchází. Tady bych chtěla odkázat na zprávu pana Casy, která zde byla přijata dříve. Zaměřila se zejména na způsoby boje proti podvodům s DPH v souvislosti se zbožím a službami, které byly náchylné k tomuto druhu zneužití. Doufám, že Komise s tím v budoucnu opravdu začne něco dělat.\\nGeorge Sabin Cutaş\\nPane předsedající, jak je uvedeno v návrhu směrnice předloženém Radou, minimální sazba DPH pomohla udržet fungování systému na přijatelné úrovni.\\nDomnívám se, že bychom měli zvážit zavedení společného regulačního rámce, který by zahrnoval dosažené výsledky na základě zkušeností s rozpočtovou nerovnováhou dále prohloubenou finanční krizí. Je požadována nová evropská strategie DPH zaměřená na omezení byrokracie a daňových překážek, které omezují podnikání, a to zejména malých a středních podniků. Musíme posoudit také potřebu předcházet podvodům a bojovat proti nim. Dokud nebude tato strategie dokončena, myslím, že rozhodnutí o prodloužení přechodného ustanovení týkajícího se minimální základní sazby DPH až do dne 31. prosince 2015 má uklidnit podnikatelskou sféru, zabránit strukturální nerovnováze v Evropské unii a podpořit harmonizaci daňových předpisů.\\nPřed zveřejněním zelené knihy Komise o přezkoumání systému DPH bych chtěl upozornit na to, že některé vlády, které čelí recesi, mají sklon zvyšovat sazbu DPH na 24-25 %, jak se to stalo v Rumunsku a v Maďarsku. Až dosud byl pozorován relativní závazek udržet maximální sazbu DPH v rozsahu 10 % nad hranicí 15 % Domnívám se však, že v tomto směru potřebujeme úplný zákaz, abychom zabránili jakémukoli překročení prahové hodnoty 25 %. Nezapomínejme, že za těmito statistickými čísly máme co do činění s běžnými občany, jejichž životní úroveň stále více ovlivňují úsporné politiky a nadměrné zdanění.\\nNa závěr bych chtěl dodat, že nadměrné zdanění není lékem pro nemocnou ekonomiku. Slouží pouze k prodlužování agonie.\\nOlle Schmidt\\nPane předsedající, pane komisaři, chtěl bych velmi poděkovat panu zpravodaji. Zásadně jsem přesvědčen, že bychom se měli vyhnout řízení spotřeby pomocí sazeb DPH. Nicméně pokud výjimky a snížené sazby DPH zjevně nezasahují do volného trhu, rozdíly mezi členskými státy EU jsme dosud vždy akceptovali. Jak však dobře víte, profesor Monti ve své zprávě o jednotném trhu uvádí, že stávající rozdíly mohou mít na jednotný trh i nepříznivý vliv. Důležité proto je, abychom požadovali konečný systém sazeb DPH a jasně zdůraznili, že přezkum směrnice o DPH by měl jako vodítko využít strategii jednotného trhu, nikoli rozdílné zájmy jednotlivých zemí.\\nJe také důležité, jak říká komisař, abychom se zaměřili na snížení administrativního zatížení, odstranění daňových překážek a zlepšení podnikatelského prostředí, zejména pro malé a střední podniky, a současně vytvořili systém odolný proti podvodům.\\nDaně jsou však především vnitrostátní záležitostí a tam je národní sebeurčení důležité. Zároveň je důležité uvědomit si, že dobře fungující vnitřní trh pravděpodobně vyžaduje širší a těsnější spolupráci v otázkách zdanění, než máme dnes. Proto doufám, že Komise - a komisař - budou mít odvahu zabývat se těmito otázkami ve svých chystaných návrzích a že výchozím bodem těchto návrhů skutečně bude dobře fungující vnitřní trh, a to i přes odpor ze strany jednotlivých států. Těžké otázky v těžkých dobách vyžadují podrobnou analýzu.\\nJaroslav Paška\\n(SK) Pane předsedající, v předloženém návrhu Komise navrhuje uplatnit minimální základní sazbu DPH ve výši 15 % dalších 5 let až do roku 2015. I když rozumím argumentům Komise, že touto směrnicí chce zajistit podnikům právní jistotu, domnívám se, že na analýze daně z přidané hodnoty je třeba velmi intenzivně zapracovat. Důvod vidím v tom, že mnohé podniky a mnohé případy daňových úniků při přeshraničním obchodu ukazují, že systém daně z přidané hodnoty je v Evropě velmi špatně organizovaný.\\nNení to jen problém samotné sazby, je to problém pravidel, které se uplatňují na vnitřním trhu a v mezistátním obchodě, který umožňuje tyto podvody v mnoha případech celkem legitimně provádět. Takže, chtěl bych podpořit svým vystoupením, a myslím, že je to i v zájmu našich ekonomů a podnikatelů, aby celý systém daně z přidané hodnoty byl přezkoumán. Termín do roku 2013 považuji vcelku za reálný a měli bychom prostě posunout tento problém nikoli na řešení sazeb, nýbrž na řešení pravidel.\\nAndrew Henry William Brons\\nPane předsedající, daně jsou přinejlepším nutné zlo a měly by vždy odrážet výdajové potřeby. Daňová sazba, která je nastavena dříve, než je rozhodnuto o výdajových potřebách, je receptem, jak si brát od lidí peníze a pak se rozhodovat, za co je utratit. Je to recept na rozhazovačnost.\\nHarmonizace sazeb DPH na společný základ a společná snížená sazba, což byl návrh Komise z roku 1993, by členským státům sebrala ještě více pravomocí. Vybírání daní je jednou z určujících charakteristik svrchovaného státu. Bude to však další krok k tomu, aby se Evropská unie stala svrchovaným státem, a členské státy jednoduše budou její bezmocné přívěsky. Boj s podvody a zmírnění zatížení malých a středních podniků mají zmást stopy. Harmonizace DPH znamená soustředění a upevnění moci Evropské unie.\\nElena Băsescu\\n(RO) Pane předsedající, cílem nové strategie DPH musí být snížení administrativního zatížení, odstranění daňových překážek a zlepšení podnikatelského prostředí, zejména malých a středních podniků. Z hlediska rozvinutosti vnitřního trhu panuje znatelná nerovnováha. Z tohoto důvodu byly evropské podniky znevýhodněny. Kromě toho systém DPH, tak jak je aktuálně navržen a jak ho provádějí členské státy, má slabiny, kterých podvodníci využívají ve svůj prospěch.\\nChtěla bych vyzvat Komisi, aby předložila výsledky svých analýz. Bude muset také zprostředkovat konzultace o nové strategii DPH se všemi zúčastněnými subjekty. V tomto směru bude třeba zabývat se společnými aspekty, jako jsou snížené sazby DPH, vyjmutí ze systému, možnost stanovit maximální sazbu a v neposlední řadě místo zdanění zásob uvnitř EU.\\nAlgirdas Šemeta\\nčlen Komise. - Pane předsedající, chci vám poděkovat za připomínky a názory, které zazněly v průběhu rozpravy. Jsem rád, že Evropský parlament a Komise sdílejí názor, že současný systém DPH je třeba přehodnotit.\\nJak jsem naznačil ve svém úvodním vystoupení, vítám ducha, ve kterém se nesou pozměňovací návrhy týkající se budoucnosti DPH. Komise se nicméně domnívá, že tento technický návrh se týká pouze opakovaného rozšiřování minimální výše základní sazby DPH.\\nVýsledek konzultací o nové strategii DPH je uváděn pouze na ospravedlnění toho, proč je předčasné stanovit trvalou výši základní sazby. Není tedy třeba odkazovat na cíle a rámec nové strategie DPH v této souvislosti v této fázi.\\nRovněž opakuji, že Komise se dnes nemůže zavázat k termínu předložení budoucího legislativního návrhu o sazbách. Budeme muset nejprve vést diskusi o budoucnosti DPH, která poskytne jasnou představu o prioritách Komise. Výsledkem této konzultace se bude Komise řídit při plánování budoucího legislativního návrhu.\\nDokončujeme práce na zelené knize a v následujících týdnech předložíme skutečné otázky k diskusi pro všechny zúčastněné, tedy pro širokou veřejnost, poslance Evropského parlamentu, zainteresované subjekty a členské státy. Otázky, které budou vzneseny, se jasně vztahují k tématům naneseným v průběhu dnešní rozpravy.\\nTěším se na plodné debaty v příštích měsících, které Komisi umožní vypracovat mnohem lepší strategii pro DPH v budoucnu.\\nDavid Casa\\nPane předsedající, ano, jsem opravdu rád, že komisař vyrozuměl, že požadujeme bez prodlení vypracovat zelenou knihu, aby se rozproudila důkladnější rozprava o návrzích Komise. Jak zde již uvedli moji kolegové, musíme se rychle zbavit systému všech druhů podvodů a ze všech sil pomoci podnikatelskému sektoru odstranit překážky, které stávající systém vytváří. Chceme vidět také účinnější vnitřní trh.\\nDnes jsme nediskutovali o tom, jaká řešení jsou zapotřebí. Od Komise požadujeme, aby neprodleně přišla s návrhy, a pomohla tak podnítit řádnou diskusi o novém systému, což nám umožní co možná nejdříve zlepšit to, co v současné době máme. Chápu, že cílem této zprávy je ve skutečnosti prodloužení lhůty. Rád bych nicméně upozornil Komisi, že dychtivě očekáváme, že nám co nejdříve předloží návrhy, neboť to nám umožní podělit se naopak o naše vlastní představy a v konečném důsledku zajistit spravedlivější systém pro každého.\\nPředsedající\\nRozprava je ukončena.\\nHlasování se bude konat zítra v 11:30.\\nPísemná prohlášení (článek 149)\\nFranz Obermayr\\nPro většinu členských států a třetích zemí s mezinárodně propojenými trhy je DPH (neboli daň z prodeje) jedním z hlavních zdrojů financování státu. Daň z prodeje je proto přinejmenším stejně tak důležitá jako přímé daně. Zachování minimální základní sazby 15 % po dobu příštích 5 let podpoří hospodářskou soutěž na mezinárodním trhu a podnikům poskytne právní jistotu. Pokud jde o snížené sazby DPH v EU, u snížených sazeb DPH na některé druhy služeb, jako jsou například opravy nebo kadeřnické a kosmetické služby, musí Komise také dbát na to, aby nedocházelo k narušení hospodářské soutěže. Tyto formy daňových úlev mají negativní dopad například na rakouské malé podniky, které mohou mít potíže obstát v konkurenci slovenských nebo maďarských poskytovatelů služeb. Řešení této situace je následující: ANO, cíleně dotovat malé a střední podniky, mj. i prostřednictvím daně z prodeje, ALE zároveň zamezit narušení hospodářské soutěže mezi členskými státy.\\n'"
      ]
     },
     "execution_count": 8,
     "metadata": {},
     "output_type": "execute_result"
    }
   ],
   "source": [
    "euroParldataset['text'][3]"
   ]
  }
 ],
 "metadata": {
  "kernelspec": {
   "display_name": "Python 3.9.7 ('sparprob': venv)",
   "language": "python",
   "name": "python3"
  },
  "language_info": {
   "codemirror_mode": {
    "name": "ipython",
    "version": 3
   },
   "file_extension": ".py",
   "mimetype": "text/x-python",
   "name": "python",
   "nbconvert_exporter": "python",
   "pygments_lexer": "ipython3",
   "version": "3.9.7"
  },
  "orig_nbformat": 4,
  "vscode": {
   "interpreter": {
    "hash": "a23c353b8f126b39e08e10b291cdc446f934514e233cf645ae9c7e400e436e5b"
   }
  }
 },
 "nbformat": 4,
 "nbformat_minor": 2
}
