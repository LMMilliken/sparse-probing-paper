{
    "cells": [
        {
            "cell_type": "code",
            "execution_count": 28,
            "metadata": {},
            "outputs": [],
            "source": [
                "import sys\n",
                "import os\n",
                "import random\n",
                "from tqdm import tqdm\n",
                "\n",
                "import pandas as pd\n",
                "import numpy as np\n",
                "import torch\n",
                "import matplotlib.pyplot as plt\n",
                "from matplotlib.patches import Patch\n",
                "from datasets import Dataset\n",
                "from torch.utils.data import DataLoader\n",
                "\n",
                "sys.path.append(os.getenv('SPARSE_PROBING_ROOT'))\n",
                "from sparse_probing_paper.activations.activation_subset import load_activation_subset\n",
                "from sparse_probing_paper.load import load_feature_dataset, load_model"
            ]
        },
        {
            "cell_type": "code",
            "execution_count": 29,
            "metadata": {},
            "outputs": [],
            "source": [
                "# feature dataset\n",
                "wikidata_property = 'sex_or_gender'\n",
                "fd_n_seq = 6000\n",
                "# wikidata_property = 'occupation_athlete'\n",
                "# fd_n_seq = 5000\n",
                "\n",
                "prefix = 'wikidata_sorted'"
            ]
        },
        {
            "cell_type": "code",
            "execution_count": 30,
            "metadata": {},
            "outputs": [],
            "source": [
                "# ablation dataset\n",
                "seq_per_class = 1000\n",
                "n_sample_prompts = 3\n",
                "# prompt = '{} plays the sport of'\n",
                "prompt = '{} has gender'"
            ]
        },
        {
            "cell_type": "code",
            "execution_count": 31,
            "metadata": {},
            "outputs": [],
            "source": [
                "classes = ['female', 'male']\n",
                "class_map = {c: c for c in classes}\n",
                "\n",
                "# classes = ['association football player', 'basketball player', 'American football player',\n",
                "#            'baseball player', 'ice hockey player']\n",
                "# class_map = {\n",
                "#     'association football player': 'soccer',\n",
                "#     'basketball player': 'basketball',\n",
                "#     'American football player': 'football',\n",
                "#     'baseball player': 'baseball',\n",
                "#     'cricketer': 'cricket',\n",
                "#     'ice hockey player': 'hockey',\n",
                "# }"
            ]
        },
        {
            "cell_type": "code",
            "execution_count": 32,
            "metadata": {},
            "outputs": [
                {
                    "data": {
                        "text/plain": [
                            "Dataset({\n",
                            "    features: ['name', 'text', 'tokens', 'name_index_start', 'name_index_end', 'surname_index_start', 'surname_index_end', 'class'],\n",
                            "    num_rows: 6000\n",
                            "})"
                        ]
                    },
                    "execution_count": 32,
                    "metadata": {},
                    "output_type": "execute_result"
                }
            ],
            "source": [
                "fd_name = f'{prefix}_{wikidata_property}.pyth.128.{fd_n_seq}'\n",
                "\n",
                "fd = load_feature_dataset(fd_name)\n",
                "fd"
            ]
        },
        {
            "cell_type": "code",
            "execution_count": 33,
            "metadata": {},
            "outputs": [],
            "source": [
                "random.seed(99)"
            ]
        },
        {
            "attachments": {},
            "cell_type": "markdown",
            "metadata": {},
            "source": [
                "### Make a feature dataset for ablations"
            ]
        },
        {
            "cell_type": "code",
            "execution_count": 34,
            "metadata": {},
            "outputs": [
                {
                    "data": {
                        "text/plain": [
                            "[('Lady Gaga', 'female'),\n",
                            " ('William Shakespeare', 'male'),\n",
                            " ('Michael Jackson', 'male')]"
                        ]
                    },
                    "execution_count": 34,
                    "metadata": {},
                    "output_type": "execute_result"
                }
            ],
            "source": [
                "all_names = list(zip(fd['name'], fd['class']))\n",
                "all_names[:3]"
            ]
        },
        {
            "cell_type": "code",
            "execution_count": 35,
            "metadata": {},
            "outputs": [
                {
                    "name": "stdout",
                    "output_type": "stream",
                    "text": [
                        "female: ['Kalki Koechlin', 'Sofia Coppola', 'Brenda Lee']\n",
                        "male: ['Hubert Humphrey', 'James Cameron', 'Charles Gounod']\n"
                    ]
                }
            ],
            "source": [
                "class_names = {c: [] for c in classes}\n",
                "for c in classes:\n",
                "    class_names[c] = [example_n for example_n, example_c in zip(fd['name'], fd['class']) if example_c == c]\n",
                "    random.shuffle(class_names[c])\n",
                "\n",
                "for c in classes:\n",
                "    print(f'{c}: {class_names[c][:3]}')"
            ]
        },
        {
            "cell_type": "code",
            "execution_count": 36,
            "metadata": {},
            "outputs": [
                {
                    "name": "stderr",
                    "output_type": "stream",
                    "text": [
                        "Using pad_token, but it is not set yet.\n"
                    ]
                },
                {
                    "name": "stdout",
                    "output_type": "stream",
                    "text": [
                        "Loaded pretrained model pythia-70m into HookedTransformer\n"
                    ]
                }
            ],
            "source": [
                "tokenizer = load_model('pythia-70m').tokenizer"
            ]
        },
        {
            "cell_type": "code",
            "execution_count": 37,
            "metadata": {},
            "outputs": [
                {
                    "data": {
                        "text/html": [
                            "<div>\n",
                            "<style scoped>\n",
                            "    .dataframe tbody tr th:only-of-type {\n",
                            "        vertical-align: middle;\n",
                            "    }\n",
                            "\n",
                            "    .dataframe tbody tr th {\n",
                            "        vertical-align: top;\n",
                            "    }\n",
                            "\n",
                            "    .dataframe thead th {\n",
                            "        text-align: right;\n",
                            "    }\n",
                            "</style>\n",
                            "<table border=\"1\" class=\"dataframe\">\n",
                            "  <thead>\n",
                            "    <tr style=\"text-align: right;\">\n",
                            "      <th></th>\n",
                            "      <th>prompt</th>\n",
                            "      <th>name</th>\n",
                            "      <th>class</th>\n",
                            "      <th>mapped_class</th>\n",
                            "      <th>tokens</th>\n",
                            "      <th>logit_index</th>\n",
                            "    </tr>\n",
                            "  </thead>\n",
                            "  <tbody>\n",
                            "    <tr>\n",
                            "      <th>0</th>\n",
                            "      <td>Arthur Sullivan has gender male. Abraham Linco...</td>\n",
                            "      <td>Kalki Koechlin</td>\n",
                            "      <td>female</td>\n",
                            "      <td>female</td>\n",
                            "      <td>[0, 34021, 26211, 556, 8645, 5086, 15, 24958, ...</td>\n",
                            "      <td>29</td>\n",
                            "    </tr>\n",
                            "    <tr>\n",
                            "      <th>1</th>\n",
                            "      <td>Bob Hope has gender male. Elena Poniatowska ha...</td>\n",
                            "      <td>Sofia Coppola</td>\n",
                            "      <td>female</td>\n",
                            "      <td>female</td>\n",
                            "      <td>[0, 26845, 15541, 556, 8645, 5086, 15, 44846, ...</td>\n",
                            "      <td>29</td>\n",
                            "    </tr>\n",
                            "    <tr>\n",
                            "      <th>2</th>\n",
                            "      <td>Nancy Reagan has gender female. Ellie Greenwic...</td>\n",
                            "      <td>Brenda Lee</td>\n",
                            "      <td>female</td>\n",
                            "      <td>female</td>\n",
                            "      <td>[0, 47, 4306, 25556, 556, 8645, 5343, 15, 9545...</td>\n",
                            "      <td>28</td>\n",
                            "    </tr>\n",
                            "    <tr>\n",
                            "      <th>3</th>\n",
                            "      <td>Tara Strong has gender female. Richard Meier h...</td>\n",
                            "      <td>Kate Atkinson</td>\n",
                            "      <td>female</td>\n",
                            "      <td>female</td>\n",
                            "      <td>[0, 53, 4595, 24747, 556, 8645, 5343, 15, 7727...</td>\n",
                            "      <td>26</td>\n",
                            "    </tr>\n",
                            "    <tr>\n",
                            "      <th>4</th>\n",
                            "      <td>Arthur Eddington has gender male. Pliny the Yo...</td>\n",
                            "      <td>Anne Lamott</td>\n",
                            "      <td>female</td>\n",
                            "      <td>female</td>\n",
                            "      <td>[0, 34021, 20709, 16240, 556, 8645, 5086, 15, ...</td>\n",
                            "      <td>30</td>\n",
                            "    </tr>\n",
                            "  </tbody>\n",
                            "</table>\n",
                            "</div>"
                        ],
                        "text/plain": [
                            "                                              prompt            name   class  \\\n",
                            "0  Arthur Sullivan has gender male. Abraham Linco...  Kalki Koechlin  female   \n",
                            "1  Bob Hope has gender male. Elena Poniatowska ha...   Sofia Coppola  female   \n",
                            "2  Nancy Reagan has gender female. Ellie Greenwic...      Brenda Lee  female   \n",
                            "3  Tara Strong has gender female. Richard Meier h...   Kate Atkinson  female   \n",
                            "4  Arthur Eddington has gender male. Pliny the Yo...     Anne Lamott  female   \n",
                            "\n",
                            "  mapped_class                                             tokens  logit_index  \n",
                            "0       female  [0, 34021, 26211, 556, 8645, 5086, 15, 24958, ...           29  \n",
                            "1       female  [0, 26845, 15541, 556, 8645, 5086, 15, 44846, ...           29  \n",
                            "2       female  [0, 47, 4306, 25556, 556, 8645, 5343, 15, 9545...           28  \n",
                            "3       female  [0, 53, 4595, 24747, 556, 8645, 5343, 15, 7727...           26  \n",
                            "4       female  [0, 34021, 20709, 16240, 556, 8645, 5086, 15, ...           30  "
                        ]
                    },
                    "execution_count": 37,
                    "metadata": {},
                    "output_type": "execute_result"
                }
            ],
            "source": [
                "seq_len = 128\n",
                "\n",
                "dataset_list = []\n",
                "for c in classes:\n",
                "    for i in range(seq_per_class):\n",
                "        name = class_names[c][i]\n",
                "\n",
                "        # TODO: does order matter? should we balance across classes? should we give potential options with the prompt?\n",
                "        example_prompt = ''\n",
                "        for _ in range(n_sample_prompts):\n",
                "            while True:\n",
                "                sample_name, sample_class = random.choice(all_names)\n",
                "                if sample_name != name:\n",
                "                    break\n",
                "            example_prompt += prompt.format(sample_name)\n",
                "            example_prompt += f' {class_map[sample_class]}. '\n",
                "        example_prompt += prompt.format(name)\n",
                "\n",
                "        # tokenize\n",
                "        tokens = tokenizer.encode(example_prompt)\n",
                "        tokens = [tokenizer.bos_token_id] + tokens\n",
                "        logit_index = len(tokens) - 1\n",
                "        tokens = tokens + (seq_len - len(tokens)) * [tokenizer.pad_token_id]\n",
                "\n",
                "        dataset_list.append({\n",
                "            'prompt': example_prompt,\n",
                "            'name': name,\n",
                "            'class': c,\n",
                "            'mapped_class': class_map[c],\n",
                "            'tokens': tokens,\n",
                "            'logit_index': logit_index,\n",
                "        })\n",
                "\n",
                "pd.DataFrame(dataset_list).head()"
            ]
        },
        {
            "cell_type": "code",
            "execution_count": 38,
            "metadata": {},
            "outputs": [
                {
                    "data": {
                        "text/plain": [
                            "Dataset({\n",
                            "    features: ['prompt', 'name', 'class', 'mapped_class', 'tokens', 'logit_index'],\n",
                            "    num_rows: 2000\n",
                            "})"
                        ]
                    },
                    "execution_count": 38,
                    "metadata": {},
                    "output_type": "execute_result"
                }
            ],
            "source": [
                "dataset = Dataset.from_list(dataset_list)\n",
                "dataset.set_format(columns=['tokens', 'logit_index'], type='pt', output_all_columns=True)\n",
                "dataset"
            ]
        },
        {
            "cell_type": "code",
            "execution_count": 39,
            "metadata": {},
            "outputs": [
                {
                    "data": {
                        "application/vnd.jupyter.widget-view+json": {
                            "model_id": "8e8c0c0727614f00b55696ca2e4f34d9",
                            "version_major": 2,
                            "version_minor": 0
                        },
                        "text/plain": [
                            "Saving the dataset (0/1 shards):   0%|          | 0/2000 [00:00<?, ? examples/s]"
                        ]
                    },
                    "metadata": {},
                    "output_type": "display_data"
                },
                {
                    "data": {
                        "text/plain": [
                            "'/Users/mtp/Downloads/sparse-probing/feature_dataset_dir/ablation_datasets/wikidata_ablations_sex_or_gender.pyth.128.2000'"
                        ]
                    },
                    "execution_count": 39,
                    "metadata": {},
                    "output_type": "execute_result"
                }
            ],
            "source": [
                "# save feature dataset\n",
                "file_loc = os.path.join(\n",
                "    os.getenv('FEATURE_DATASET_DIR'),\n",
                "    'ablation_datasets',\n",
                "    f'wikidata_ablations_{wikidata_property}.pyth.{seq_len}.{seq_per_class * len(classes)}'\n",
                ")\n",
                "os.makedirs(file_loc, exist_ok=True)\n",
                "dataset.save_to_disk(file_loc)\n",
                "\n",
                "file_loc"
            ]
        },
        {
            "attachments": {},
            "cell_type": "markdown",
            "metadata": {},
            "source": [
                "### Test model predictions"
            ]
        },
        {
            "cell_type": "code",
            "execution_count": 40,
            "metadata": {},
            "outputs": [
                {
                    "name": "stderr",
                    "output_type": "stream",
                    "text": [
                        "Using pad_token, but it is not set yet.\n"
                    ]
                },
                {
                    "name": "stdout",
                    "output_type": "stream",
                    "text": [
                        "Loaded pretrained model pythia-70m into HookedTransformer\n"
                    ]
                }
            ],
            "source": [
                "# TODO\n",
                "model = load_model('pythia-70m')\n",
                "# model = load_model('pythia-1b')"
            ]
        },
        {
            "cell_type": "code",
            "execution_count": 42,
            "metadata": {},
            "outputs": [
                {
                    "name": "stderr",
                    "output_type": "stream",
                    "text": [
                        "100%|██████████| 20/20 [00:00<00:00, 25.25it/s]\n"
                    ]
                },
                {
                    "data": {
                        "text/plain": [
                            "torch.Size([2000, 50304])"
                        ]
                    },
                    "execution_count": 42,
                    "metadata": {},
                    "output_type": "execute_result"
                }
            ],
            "source": [
                "n = 20\n",
                "\n",
                "all_logits = torch.empty((len(dataset), model.cfg.d_vocab), dtype=torch.float32)\n",
                "dataloader = DataLoader(dataset['tokens'][:n], batch_size=1, shuffle=False)\n",
                "for step, batch in enumerate(tqdm(dataloader)):\n",
                "    logit_index = dataset['logit_index'][step].item()\n",
                "    logits = model(batch, return_type='logits')\n",
                "    all_logits[step] = logits[0,logit_index,:]\n",
                "\n",
                "all_logits.shape"
            ]
        },
        {
            "cell_type": "code",
            "execution_count": 43,
            "metadata": {},
            "outputs": [
                {
                    "name": "stdout",
                    "output_type": "stream",
                    "text": [
                        "Kalki Koechlin has gender (true class=female)\n",
                        "\t[(' male', 0.76), (' female', 0.16), (' Male', 0.01), (' gender', 0.01), (' masculine', 0.01)]\n",
                        "Sofia Coppola has gender (true class=female)\n",
                        "\t[(' male', 0.55), (' female', 0.35), (' gender', 0.01), (' feminine', 0.01), (' masculine', 0.0)]\n",
                        "Brenda Lee has gender (true class=female)\n",
                        "\t[(' female', 0.63), (' male', 0.23), (' feminine', 0.01), (' woman', 0.01), (' gender', 0.01)]\n",
                        "Kate Atkinson has gender (true class=female)\n",
                        "\t[(' male', 0.56), (' female', 0.37), (' Male', 0.01), (' gender', 0.01), (' masculine', 0.0)]\n",
                        "Anne Lamott has gender (true class=female)\n",
                        "\t[(' male', 0.65), (' female', 0.28), (' gender', 0.01), (' Male', 0.01), (' masculine', 0.0)]\n",
                        "Belinda Carlisle has gender (true class=female)\n",
                        "\t[(' female', 0.51), (' male', 0.43), (' gender', 0.01), (' Male', 0.01), (' feminine', 0.0)]\n",
                        "Claire Danes has gender (true class=female)\n",
                        "\t[(' female', 0.6), (' male', 0.35), (' gender', 0.01), (' Male', 0.0), (' feminine', 0.0)]\n",
                        "Jackie DeShannon has gender (true class=female)\n",
                        "\t[(' male', 0.73), (' female', 0.21), (' Male', 0.01), (' gender', 0.0), (' masculine', 0.0)]\n",
                        "Laraine Newman has gender (true class=female)\n",
                        "\t[(' female', 0.46), (' male', 0.45), (' feminine', 0.01), (' gender', 0.01), (' masculine', 0.01)]\n",
                        "Uma Thurman has gender (true class=female)\n",
                        "\t[(' female', 0.54), (' male', 0.38), (' gender', 0.01), (' Male', 0.01), (' feminine', 0.0)]\n",
                        "Dawn French has gender (true class=female)\n",
                        "\t[(' male', 0.8), (' female', 0.15), (' gender', 0.01), (' Male', 0.01), (' masculine', 0.0)]\n",
                        "Kareena Kapoor has gender (true class=female)\n",
                        "\t[(' female', 0.58), (' male', 0.3), (' gender', 0.01), (' Male', 0.01), (' woman', 0.0)]\n",
                        "Anna Eshoo has gender (true class=female)\n",
                        "\t[(' male', 0.63), (' female', 0.28), (' gender', 0.01), (' Male', 0.01), (' masculine', 0.01)]\n",
                        "Emma Roberts has gender (true class=female)\n",
                        "\t[(' male', 0.65), (' female', 0.28), (' gender', 0.01), (' Male', 0.0), (' feminine', 0.0)]\n",
                        "Jacqueline Susann has gender (true class=female)\n",
                        "\t[(' female', 0.52), (' male', 0.42), (' Male', 0.01), (' gender', 0.0), (' masculine', 0.0)]\n",
                        "Gertrude Stein has gender (true class=female)\n",
                        "\t[(' male', 0.67), (' female', 0.24), (' Male', 0.01), (' gender', 0.01), (' masculine', 0.0)]\n",
                        "Grace Drayton has gender (true class=female)\n",
                        "\t[(' male', 0.67), (' female', 0.27), (' gender', 0.01), (' Male', 0.01), (' masculine', 0.0)]\n",
                        "Suze Orman has gender (true class=female)\n",
                        "\t[(' female', 0.51), (' male', 0.41), (' gender', 0.01), (' Male', 0.0), (' feminine', 0.0)]\n",
                        "Brittany Murphy has gender (true class=female)\n",
                        "\t[(' male', 0.49), (' female', 0.43), (' Male', 0.01), (' gender', 0.01), (' masculine', 0.0)]\n",
                        "Charlotte Perkins Gilman has gender (true class=female)\n",
                        "\t[(' male', 0.59), (' female', 0.35), (' Male', 0.0), (' gender', 0.0), (' feminine', 0.0)]\n"
                    ]
                }
            ],
            "source": [
                "# print model predictions\n",
                "n = 20\n",
                "for i in range(n):\n",
                "    tokens = dataset['tokens'][i].tolist()\n",
                "    text = dataset['prompt'][i]\n",
                "    true_class = dataset['class'][i]\n",
                "    logits = all_logits[i]\n",
                "    probs = torch.nn.functional.softmax(logits, dim=0)\n",
                "\n",
                "    # greedy\n",
                "    top_tokens = torch.argsort(logits)[-5:].tolist()[::-1]\n",
                "    print(f'{text.split(\".\")[-1][1:]} (true class={true_class})')\n",
                "    print(f'\\t{list(zip(tokenizer.batch_decode(top_tokens), [round(p, 2) for p in probs[top_tokens].tolist()]))}')"
            ]
        }
    ],
    "metadata": {
        "kernelspec": {
            "display_name": "sparprob",
            "language": "python",
            "name": "python3"
        },
        "language_info": {
            "codemirror_mode": {
                "name": "ipython",
                "version": 3
            },
            "file_extension": ".py",
            "mimetype": "text/x-python",
            "name": "python",
            "nbconvert_exporter": "python",
            "pygments_lexer": "ipython3",
            "version": "3.10.9"
        },
        "orig_nbformat": 4
    },
    "nbformat": 4,
    "nbformat_minor": 2
}