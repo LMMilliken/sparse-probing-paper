{
    "cells": [
        {
            "cell_type": "code",
            "execution_count": 4,
            "metadata": {},
            "outputs": [
                {
                    "name": "stdout",
                    "output_type": "stream",
                    "text": [
                        "/Users/wesgurnee/Documents/mechint/sparse_probing\n"
                    ]
                }
            ],
            "source": [
                "cd .."
            ]
        },
        {
            "cell_type": "code",
            "execution_count": 5,
            "metadata": {},
            "outputs": [],
            "source": [
                "import os\n",
                "os.environ['TRANSFORMERS_CACHE'] = '/Users/wesgurnee/Documents/mechint/sparse_probing/sparse-probing/downloads'\n",
                "os.environ['TRANSFORMERS_OFFLINE'] = '1'"
            ]
        },
        {
            "cell_type": "code",
            "execution_count": 6,
            "metadata": {},
            "outputs": [],
            "source": [
                "import datasets\n",
                "from datasets import load_dataset\n",
                "import matplotlib.pyplot as plt\n",
                "\n",
                "%matplotlib inline"
            ]
        },
        {
            "cell_type": "code",
            "execution_count": 7,
            "metadata": {},
            "outputs": [
                {
                    "data": {
                        "application/vnd.jupyter.widget-view+json": {
                            "model_id": "27bb4d3e0ca14ba28f0c1ad704fa0a91",
                            "version_major": 2,
                            "version_minor": 0
                        },
                        "text/plain": [
                            "Downloading builder script:   0%|          | 0.00/9.52k [00:00<?, ?B/s]"
                        ]
                    },
                    "metadata": {},
                    "output_type": "display_data"
                },
                {
                    "data": {
                        "application/vnd.jupyter.widget-view+json": {
                            "model_id": "f82b67e395d543a7a971e39fe7546157",
                            "version_major": 2,
                            "version_minor": 0
                        },
                        "text/plain": [
                            "Downloading readme:   0%|          | 0.00/13.6k [00:00<?, ?B/s]"
                        ]
                    },
                    "metadata": {},
                    "output_type": "display_data"
                },
                {
                    "name": "stderr",
                    "output_type": "stream",
                    "text": [
                        "No config specified, defaulting to: the_pile/all\n"
                    ]
                }
            ],
            "source": [
                "test_dataset = datasets.load_dataset(\n",
                "    \"the_pile\", split=\"test\", streaming=True)"
            ]
        },
        {
            "cell_type": "code",
            "execution_count": 8,
            "metadata": {},
            "outputs": [],
            "source": [
                "subset = test_dataset.filter(lambda example: example['meta']['pile_set_name'] == 'ArXiv')\n",
                "arxiv_test = datasets.Dataset.from_list(list(subset.take(5000)))"
            ]
        },
        {
            "cell_type": "code",
            "execution_count": 12,
            "metadata": {},
            "outputs": [
                {
                    "name": "stderr",
                    "output_type": "stream",
                    "text": [
                        "No config specified, defaulting to: the_pile/all\n"
                    ]
                }
            ],
            "source": [
                "valid_dataset = datasets.load_dataset(\n",
                "    \"the_pile\", split=\"validation\", streaming=True)\n",
                "\n",
                "subset = valid_dataset.filter(lambda example: example['meta']['pile_set_name'] == 'ArXiv')\n",
                "arxiv_valid = datasets.Dataset.from_list(list(subset.take(5000)))"
            ]
        },
        {
            "cell_type": "code",
            "execution_count": 17,
            "metadata": {},
            "outputs": [],
            "source": [
                "# concat the two datasets\n",
                "arxiv_dataset = datasets.concatenate_datasets([arxiv_test, arxiv_valid])"
            ]
        },
        {
            "cell_type": "code",
            "execution_count": 19,
            "metadata": {},
            "outputs": [
                {
                    "data": {
                        "application/vnd.jupyter.widget-view+json": {
                            "model_id": "7fa706f63dc049c6a43b5f10e25a48b9",
                            "version_major": 2,
                            "version_minor": 0
                        },
                        "text/plain": [
                            "Saving the dataset (0/1 shards):   0%|          | 0/4841 [00:00<?, ? examples/s]"
                        ]
                    },
                    "metadata": {},
                    "output_type": "display_data"
                }
            ],
            "source": [
                "arxiv_dataset.save_to_disk(os.path.join(os.environ.get('TRANSFORMERS_CACHE'), 'arxiv_dataset.hf'))"
            ]
        },
        {
            "cell_type": "code",
            "execution_count": null,
            "metadata": {},
            "outputs": [],
            "source": []
        },
        {
            "cell_type": "code",
            "execution_count": null,
            "metadata": {},
            "outputs": [],
            "source": [
                "train_dataset = datasets.load_dataset(\n",
                "    \"the_pile\", split=\"train\", streaming=True)\n",
                "\n",
                "subset = train_dataset.filter(lambda example: example['meta']['pile_set_name'] == 'ArXiv')\n",
                "arxiv_train = datasets.Dataset.from_list(list(subset.take(5000)))"
            ]
        },
        {
            "cell_type": "code",
            "execution_count": 22,
            "metadata": {},
            "outputs": [
                {
                    "data": {
                        "text/plain": [
                            "array([[False, False, False, ...,  True,  True,  True],\n",
                            "       [False, False, False, ...,  True,  True,  True],\n",
                            "       [False, False, False, ...,  True,  True,  True],\n",
                            "       ...,\n",
                            "       [False, False, False, ...,  True,  True,  True],\n",
                            "       [False, False, False, ...,  True,  True,  True],\n",
                            "       [False, False, False, ...,  True,  True,  True]])"
                        ]
                    },
                    "execution_count": 22,
                    "metadata": {},
                    "output_type": "execute_result"
                }
            ],
            "source": [
                "import numpy as np\n",
                "igk = 5\n",
                "ctx_len = 16\n",
                "valid_negatives = np.ones((100, ctx_len), dtype=bool)\n",
                "valid_negatives & (\n",
                "        np.arange(ctx_len) > igk)[None, :]"
            ]
        },
        {
            "cell_type": "code",
            "execution_count": null,
            "metadata": {},
            "outputs": [],
            "source": []
        },
        {
            "cell_type": "code",
            "execution_count": 3,
            "metadata": {},
            "outputs": [
                {
                    "name": "stderr",
                    "output_type": "stream",
                    "text": [
                        "No config specified, defaulting to: the_pile/all\n"
                    ]
                }
            ],
            "source": [
                "test_dataset = datasets.load_dataset(\n",
                "    \"the_pile\", split=\"test\", streaming=True)"
            ]
        },
        {
            "cell_type": "code",
            "execution_count": 14,
            "metadata": {},
            "outputs": [],
            "source": [
                "subset = datasets.Dataset.from_list(list(test_dataset.take(500_000)))"
            ]
        },
        {
            "cell_type": "code",
            "execution_count": 15,
            "metadata": {},
            "outputs": [
                {
                    "data": {
                        "text/plain": [
                            "Counter({'Wikipedia (en)': 17511,\n",
                            "         'Pile-CC': 52790,\n",
                            "         'PubMed Abstracts': 29895,\n",
                            "         'StackExchange': 30378,\n",
                            "         'Github': 18195,\n",
                            "         'OpenWebText2': 32925,\n",
                            "         'ArXiv': 2407,\n",
                            "         'USPTO Backgrounds': 11415,\n",
                            "         'YoutubeSubtitles': 342,\n",
                            "         'FreeLaw': 5101,\n",
                            "         'PubMed Central': 5911,\n",
                            "         'DM Mathematics': 1922,\n",
                            "         'HackerNews': 1632,\n",
                            "         'NIH ExPorter': 1884,\n",
                            "         'OpenSubtitles': 642,\n",
                            "         'Enron Emails': 1010,\n",
                            "         'EuroParl': 157,\n",
                            "         'Books3': 269,\n",
                            "         'PhilPapers': 68,\n",
                            "         'Gutenberg (PG-19)': 80,\n",
                            "         'BookCorpus2': 28,\n",
                            "         'Ubuntu IRC': 22})"
                        ]
                    },
                    "execution_count": 15,
                    "metadata": {},
                    "output_type": "execute_result"
                }
            ],
            "source": [
                "from collections import Counter\n",
                "Counter([c['pile_set_name'] for c in subset['meta']])"
            ]
        },
        {
            "cell_type": "code",
            "execution_count": 18,
            "metadata": {},
            "outputs": [
                {
                    "data": {
                        "application/vnd.jupyter.widget-view+json": {
                            "model_id": "a7f6f8a0ee04497fb50f7067f798e756",
                            "version_major": 2,
                            "version_minor": 0
                        },
                        "text/plain": [
                            "Saving the dataset (0/3 shards):   0%|          | 0/214584 [00:00<?, ? examples/s]"
                        ]
                    },
                    "metadata": {},
                    "output_type": "display_data"
                }
            ],
            "source": [
                "save_path = '/Users/wesgurnee/Documents/mechint/sparse_probing/sparse-probing/downloads/pile-test.hf'\n",
                "subset.save_to_disk(save_path)"
            ]
        },
        {
            "cell_type": "code",
            "execution_count": 17,
            "metadata": {},
            "outputs": [
                {
                    "data": {
                        "text/plain": [
                            "214584"
                        ]
                    },
                    "execution_count": 17,
                    "metadata": {},
                    "output_type": "execute_result"
                }
            ],
            "source": [
                "len(subset)"
            ]
        },
        {
            "cell_type": "code",
            "execution_count": 12,
            "metadata": {},
            "outputs": [],
            "source": [
                "l = 0\n",
                "for row in subset:\n",
                "    l += len(row['text'])"
            ]
        },
        {
            "cell_type": "code",
            "execution_count": 13,
            "metadata": {},
            "outputs": [
                {
                    "data": {
                        "text/plain": [
                            "614947263"
                        ]
                    },
                    "execution_count": 13,
                    "metadata": {},
                    "output_type": "execute_result"
                }
            ],
            "source": [
                "l"
            ]
        },
        {
            "cell_type": "code",
            "execution_count": null,
            "metadata": {},
            "outputs": [],
            "source": []
        },
        {
            "cell_type": "code",
            "execution_count": 42,
            "metadata": {},
            "outputs": [],
            "source": [
                "subset = test_dataset.filter(lambda example: example['meta']['pile_set_name'] == 'Enron Emails')\n",
                "enrov_valid_dataset = datasets.Dataset.from_list(list(subset.take(1000)))"
            ]
        },
        {
            "cell_type": "code",
            "execution_count": 43,
            "metadata": {},
            "outputs": [
                {
                    "data": {
                        "text/plain": [
                            "Dataset({\n",
                            "    features: ['text', 'meta'],\n",
                            "    num_rows: 947\n",
                            "})"
                        ]
                    },
                    "execution_count": 43,
                    "metadata": {},
                    "output_type": "execute_result"
                }
            ],
            "source": [
                "enrov_valid_dataset"
            ]
        },
        {
            "cell_type": "code",
            "execution_count": 24,
            "metadata": {},
            "outputs": [],
            "source": [
                "from collections import Counter\n",
                "c = (Counter([m['pile_set_name'] for m in subset['meta']]))"
            ]
        },
        {
            "cell_type": "code",
            "execution_count": 26,
            "metadata": {},
            "outputs": [
                {
                    "data": {
                        "text/plain": [
                            "Counter({'Wikipedia (en)': 782,\n",
                            "         'Pile-CC': 2490,\n",
                            "         'PubMed Abstracts': 1370,\n",
                            "         'StackExchange': 1475,\n",
                            "         'Github': 825,\n",
                            "         'OpenWebText2': 1510,\n",
                            "         'ArXiv': 110,\n",
                            "         'USPTO Backgrounds': 506,\n",
                            "         'YoutubeSubtitles': 16,\n",
                            "         'FreeLaw': 243,\n",
                            "         'PubMed Central': 304,\n",
                            "         'DM Mathematics': 83,\n",
                            "         'HackerNews': 92,\n",
                            "         'NIH ExPorter': 78,\n",
                            "         'OpenSubtitles': 36,\n",
                            "         'Enron Emails': 45,\n",
                            "         'EuroParl': 8,\n",
                            "         'Books3': 14,\n",
                            "         'PhilPapers': 5,\n",
                            "         'Gutenberg (PG-19)': 4,\n",
                            "         'BookCorpus2': 2,\n",
                            "         'Ubuntu IRC': 2})"
                        ]
                    },
                    "execution_count": 26,
                    "metadata": {},
                    "output_type": "execute_result"
                }
            ],
            "source": [
                "c"
            ]
        },
        {
            "cell_type": "code",
            "execution_count": 27,
            "metadata": {},
            "outputs": [],
            "source": [
                "dataset_splits = {\n",
                "    'Wikipedia (en)': 'wikipedia',\n",
                "    'PubMed Abstracts': 'pubmed_abstracts',\n",
                "    'StackExchange': 'stack_exchange',\n",
                "    'Github': 'github',\n",
                "    'ArXiv': 'arxiv',\n",
                "    'USPTO Backgrounds': 'uspto',\n",
                "    'FreeLaw': 'freelaw',\n",
                "    'HackerNews': 'hackernews',\n",
                "    'Enron Emails': 'enron'\n",
                "}"
            ]
        },
        {
            "cell_type": "code",
            "execution_count": 34,
            "metadata": {},
            "outputs": [
                {
                    "name": "stdout",
                    "output_type": "stream",
                    "text": [
                        "Wikipedia (en) 2000\n",
                        "PubMed Abstracts 2000\n",
                        "StackExchange 2000\n",
                        "Github 2000\n",
                        "ArXiv 2000\n",
                        "USPTO Backgrounds 2000\n",
                        "FreeLaw 2000\n",
                        "HackerNews 1632\n",
                        "Enron Emails 1010\n"
                    ]
                }
            ],
            "source": [
                "test_splits = {}\n",
                "split_size = 2000\n",
                "for split in dataset_splits:\n",
                "    subset = test_dataset.filter(lambda example: example['meta']['pile_set_name'] == split)\n",
                "    sub_dataset = datasets.Dataset.from_list(list(subset.take(split_size)))\n",
                "    print(split, len(sub_dataset))\n",
                "    test_splits[split] = sub_dataset"
            ]
        },
        {
            "cell_type": "code",
            "execution_count": 36,
            "metadata": {},
            "outputs": [],
            "source": [
                "sit_awareness_dataset = datasets.concatenate_datasets(list(test_splits.values()))\n"
            ]
        },
        {
            "cell_type": "code",
            "execution_count": 46,
            "metadata": {},
            "outputs": [
                {
                    "data": {
                        "text/plain": [
                            "Dataset({\n",
                            "    features: ['text', 'meta'],\n",
                            "    num_rows: 16642\n",
                            "})"
                        ]
                    },
                    "execution_count": 46,
                    "metadata": {},
                    "output_type": "execute_result"
                }
            ],
            "source": [
                "sit_awareness_dataset"
            ]
        },
        {
            "cell_type": "code",
            "execution_count": 47,
            "metadata": {},
            "outputs": [],
            "source": [
                "final_sit_awareness_ds = datasets.concatenate_datasets([sit_awareness_dataset, enrov_valid_dataset])"
            ]
        },
        {
            "cell_type": "code",
            "execution_count": 48,
            "metadata": {},
            "outputs": [
                {
                    "data": {
                        "text/plain": [
                            "Dataset({\n",
                            "    features: ['text', 'meta'],\n",
                            "    num_rows: 17589\n",
                            "})"
                        ]
                    },
                    "execution_count": 48,
                    "metadata": {},
                    "output_type": "execute_result"
                }
            ],
            "source": [
                "final_sit_awareness_ds"
            ]
        },
        {
            "cell_type": "code",
            "execution_count": null,
            "metadata": {},
            "outputs": [],
            "source": []
        },
        {
            "cell_type": "code",
            "execution_count": 49,
            "metadata": {},
            "outputs": [
                {
                    "data": {
                        "application/vnd.jupyter.widget-view+json": {
                            "model_id": "dec5e3e409ff4445929dc39378ff6220",
                            "version_major": 2,
                            "version_minor": 0
                        },
                        "text/plain": [
                            "Saving the dataset (0/1 shards):   0%|          | 0/17589 [00:00<?, ? examples/s]"
                        ]
                    },
                    "metadata": {},
                    "output_type": "display_data"
                }
            ],
            "source": [
                "save_path = '/Users/wesgurnee/Documents/mechint/sparse_probing/sparse-probing/downloads/test_subset_with_even_slices.hf'\n",
                "final_sit_awareness_ds.save_to_disk(save_path)"
            ]
        },
        {
            "cell_type": "code",
            "execution_count": 50,
            "metadata": {},
            "outputs": [
                {
                    "data": {
                        "text/plain": [
                            "dict_keys(['Wikipedia (en)', 'PubMed Abstracts', 'StackExchange', 'Github', 'ArXiv', 'USPTO Backgrounds', 'FreeLaw', 'HackerNews', 'Enron Emails'])"
                        ]
                    },
                    "execution_count": 50,
                    "metadata": {},
                    "output_type": "execute_result"
                }
            ],
            "source": [
                "test_splits.keys()"
            ]
        },
        {
            "cell_type": "code",
            "execution_count": 89,
            "metadata": {},
            "outputs": [
                {
                    "name": "stdout",
                    "output_type": "stream",
                    "text": [
                        "Wednesday will work best for me.  Say 11:45 at the Daily Review?\n",
                        "\n",
                        "-----Original Message-----\n",
                        "From: Jewell, Cyndi M [mailto:cjewell@bcm.tmc.edu]\n",
                        "Sent: Monday, February 25, 2002 8:45 AM\n",
                        "To: Shelley A. Corman (E-mail)\n",
                        "Subject: Lunch plans\n",
                        "\n",
                        "\n",
                        "Hi! I hope you enjoyed the rest of your weekend. The weather was simply\n",
                        "beautiful. We did some extensive yardwork. Luckily we didn't plant much\n",
                        "since it is supposed to be chilly this week.\n",
                        "\n",
                        "Brianna and I loved the sing-a-long Sound of Music. It was great fun. I'd go\n",
                        "again next weekend!\n",
                        "\n",
                        "Let me know which day is best for us to have lunch --Wednesday or Thursday.\n",
                        "\n",
                        "C\n"
                    ]
                }
            ],
            "source": [
                "print(test_splits['Enron Emails'][1000]['text'])"
            ]
        },
        {
            "cell_type": "code",
            "execution_count": 4,
            "metadata": {},
            "outputs": [
                {
                    "name": "stderr",
                    "output_type": "stream",
                    "text": [
                        "/Users/wesgurnee/Documents/mechint/sparse_probing/sparse-probing/sparprob/lib/python3.9/site-packages/datasets/arrow_dataset.py:1533: FutureWarning: 'fs' was is deprecated in favor of 'storage_options' in version 2.8.0 and will be removed in 3.0.0.\n",
                        "You can remove this warning by passing 'storage_options=fs.storage_options' instead.\n",
                        "  warnings.warn(\n"
                    ]
                }
            ],
            "source": [
                "save_path = '/Users/wesgurnee/Documents/mechint/sparse_probing/sparse-probing/downloads/pile-test.hf'\n",
                "ds = datasets.load_from_disk(save_path)"
            ]
        },
        {
            "cell_type": "code",
            "execution_count": 5,
            "metadata": {},
            "outputs": [],
            "source": [
                "import numpy as np\n",
                "data_split = np.array([m['pile_set_name'] for m in ds['meta']])"
            ]
        },
        {
            "cell_type": "code",
            "execution_count": 17,
            "metadata": {},
            "outputs": [
                {
                    "data": {
                        "text/plain": [
                            "'ArXiv'"
                        ]
                    },
                    "execution_count": 17,
                    "metadata": {},
                    "output_type": "execute_result"
                }
            ],
            "source": [
                "np.unique(data_split)[0]"
            ]
        },
        {
            "cell_type": "code",
            "execution_count": 6,
            "metadata": {},
            "outputs": [
                {
                    "name": "stdout",
                    "output_type": "stream",
                    "text": [
                        "ArXiv 2407\n",
                        "BookCorpus2 28\n",
                        "Books3 269\n",
                        "DM Mathematics 1922\n",
                        "Enron Emails 1010\n",
                        "EuroParl 157\n",
                        "FreeLaw 5101\n",
                        "Github 18195\n",
                        "Gutenberg (PG-19) 80\n",
                        "HackerNews 1632\n",
                        "NIH ExPorter 1884\n",
                        "OpenSubtitles 642\n",
                        "OpenWebText2 32925\n",
                        "PhilPapers 68\n",
                        "Pile-CC 52790\n",
                        "PubMed Abstracts 29895\n",
                        "PubMed Central 5911\n",
                        "StackExchange 30378\n",
                        "USPTO Backgrounds 11415\n",
                        "Ubuntu IRC 22\n",
                        "Wikipedia (en) 17511\n",
                        "YoutubeSubtitles 342\n"
                    ]
                }
            ],
            "source": [
                "for k, v in zip(*np.unique(data_split, return_counts=True)):\n",
                "    print(k, v)"
            ]
        },
        {
            "cell_type": "code",
            "execution_count": 7,
            "metadata": {},
            "outputs": [],
            "source": [
                "sub_dataset_indices = np.where(data_split == 'Enron Emails')[0]\n",
                "sub_dataset = ds.select(sub_dataset_indices)"
            ]
        },
        {
            "cell_type": "code",
            "execution_count": 8,
            "metadata": {},
            "outputs": [
                {
                    "name": "stderr",
                    "output_type": "stream",
                    "text": [
                        "Using pad_token, but it is not set yet.\n"
                    ]
                },
                {
                    "name": "stdout",
                    "output_type": "stream",
                    "text": [
                        "Loaded pretrained model pythia-70m into HookedTransformer\n"
                    ]
                }
            ],
            "source": [
                "from sparse_probing_paper.load import *\n",
                "model = load_model('pythia-70m') # only need tokenizer so load smallest model"
            ]
        },
        {
            "cell_type": "code",
            "execution_count": 9,
            "metadata": {},
            "outputs": [
                {
                    "name": "stdout",
                    "output_type": "stream",
                    "text": [
                        "              "
                    ]
                },
                {
                    "data": {
                        "application/vnd.jupyter.widget-view+json": {
                            "model_id": "3482b104e96e42e0aca35555df6c9fc8",
                            "version_major": 2,
                            "version_minor": 0
                        },
                        "text/plain": [
                            "#0:   0%|          | 0/1 [00:00<?, ?ba/s]"
                        ]
                    },
                    "metadata": {},
                    "output_type": "display_data"
                },
                {
                    "data": {
                        "application/vnd.jupyter.widget-view+json": {
                            "model_id": "464a261236ee4aff82229eabafd2f450",
                            "version_major": 2,
                            "version_minor": 0
                        },
                        "text/plain": [
                            "#1:   0%|          | 0/1 [00:00<?, ?ba/s]"
                        ]
                    },
                    "metadata": {},
                    "output_type": "display_data"
                },
                {
                    "data": {
                        "application/vnd.jupyter.widget-view+json": {
                            "model_id": "3045a3506179449a8d0e7fb032a1dc9e",
                            "version_major": 2,
                            "version_minor": 0
                        },
                        "text/plain": [
                            "#2:   0%|          | 0/1 [00:00<?, ?ba/s]"
                        ]
                    },
                    "metadata": {},
                    "output_type": "display_data"
                },
                {
                    "name": "stdout",
                    "output_type": "stream",
                    "text": [
                        " "
                    ]
                },
                {
                    "data": {
                        "application/vnd.jupyter.widget-view+json": {
                            "model_id": "d2f5df7ea16943c0afe90954534b0be1",
                            "version_major": 2,
                            "version_minor": 0
                        },
                        "text/plain": [
                            "#3:   0%|          | 0/1 [00:00<?, ?ba/s]"
                        ]
                    },
                    "metadata": {},
                    "output_type": "display_data"
                },
                {
                    "name": "stdout",
                    "output_type": "stream",
                    "text": [
                        " "
                    ]
                },
                {
                    "data": {
                        "application/vnd.jupyter.widget-view+json": {
                            "model_id": "b51399deca8845dc855b0eaa2fcd8722",
                            "version_major": 2,
                            "version_minor": 0
                        },
                        "text/plain": [
                            "#4:   0%|          | 0/1 [00:00<?, ?ba/s]"
                        ]
                    },
                    "metadata": {},
                    "output_type": "display_data"
                },
                {
                    "name": "stdout",
                    "output_type": "stream",
                    "text": [
                        " "
                    ]
                },
                {
                    "data": {
                        "application/vnd.jupyter.widget-view+json": {
                            "model_id": "afa27452f60b4cb2ae251c49c659c151",
                            "version_major": 2,
                            "version_minor": 0
                        },
                        "text/plain": [
                            "#5:   0%|          | 0/1 [00:00<?, ?ba/s]"
                        ]
                    },
                    "metadata": {},
                    "output_type": "display_data"
                },
                {
                    "data": {
                        "application/vnd.jupyter.widget-view+json": {
                            "model_id": "52e3b50892194fa988ba42200ffe7eb5",
                            "version_major": 2,
                            "version_minor": 0
                        },
                        "text/plain": [
                            "#6:   0%|          | 0/1 [00:00<?, ?ba/s]"
                        ]
                    },
                    "metadata": {},
                    "output_type": "display_data"
                },
                {
                    "name": "stdout",
                    "output_type": "stream",
                    "text": [
                        "  "
                    ]
                },
                {
                    "data": {
                        "application/vnd.jupyter.widget-view+json": {
                            "model_id": "db05d379770e40e0bf1c8372af9b556b",
                            "version_major": 2,
                            "version_minor": 0
                        },
                        "text/plain": [
                            "#7:   0%|          | 0/1 [00:00<?, ?ba/s]"
                        ]
                    },
                    "metadata": {},
                    "output_type": "display_data"
                },
                {
                    "name": "stdout",
                    "output_type": "stream",
                    "text": [
                        " "
                    ]
                },
                {
                    "data": {
                        "application/vnd.jupyter.widget-view+json": {
                            "model_id": "925d5670d8bb4fbb9beec804609a7426",
                            "version_major": 2,
                            "version_minor": 0
                        },
                        "text/plain": [
                            "#8:   0%|          | 0/1 [00:00<?, ?ba/s]"
                        ]
                    },
                    "metadata": {},
                    "output_type": "display_data"
                },
                {
                    "data": {
                        "application/vnd.jupyter.widget-view+json": {
                            "model_id": "2d1e6040b7354e0f98dcf1fa7d59bdb2",
                            "version_major": 2,
                            "version_minor": 0
                        },
                        "text/plain": [
                            "#9:   0%|          | 0/1 [00:00<?, ?ba/s]"
                        ]
                    },
                    "metadata": {},
                    "output_type": "display_data"
                }
            ],
            "source": [
                "from transformer_lens.utils import tokenize_and_concatenate\n",
                "tds = tokenize_and_concatenate(sub_dataset, model.tokenizer)"
            ]
        },
        {
            "cell_type": "code",
            "execution_count": 15,
            "metadata": {},
            "outputs": [
                {
                    "data": {
                        "text/plain": [
                            "0.0"
                        ]
                    },
                    "execution_count": 15,
                    "metadata": {},
                    "output_type": "execute_result"
                }
            ],
            "source": [
                "(tds['tokens'][:, 1:] == 0).numpy().mean()"
            ]
        },
        {
            "cell_type": "code",
            "execution_count": 18,
            "metadata": {},
            "outputs": [
                {
                    "name": "stderr",
                    "output_type": "stream",
                    "text": [
                        "/Users/wesgurnee/Documents/mechint/sparse_probing/sparse-probing/sparprob/lib/python3.9/site-packages/datasets/arrow_dataset.py:1533: FutureWarning: 'fs' was is deprecated in favor of 'storage_options' in version 2.8.0 and will be removed in 3.0.0.\n",
                        "You can remove this warning by passing 'storage_options=fs.storage_options' instead.\n",
                        "  warnings.warn(\n"
                    ]
                }
            ],
            "source": [
                "fds = load_feature_dataset('pile_test.pyth.512.-1')"
            ]
        },
        {
            "cell_type": "code",
            "execution_count": 19,
            "metadata": {},
            "outputs": [
                {
                    "data": {
                        "text/plain": [
                            "Dataset({\n",
                            "    features: ['tokens', 'distribution'],\n",
                            "    num_rows: 649011\n",
                            "})"
                        ]
                    },
                    "execution_count": 19,
                    "metadata": {},
                    "output_type": "execute_result"
                }
            ],
            "source": [
                "fds"
            ]
        },
        {
            "cell_type": "code",
            "execution_count": 21,
            "metadata": {},
            "outputs": [
                {
                    "data": {
                        "text/plain": [
                            "331644621"
                        ]
                    },
                    "execution_count": 21,
                    "metadata": {},
                    "output_type": "execute_result"
                }
            ],
            "source": [
                "649011 * 511"
            ]
        },
        {
            "cell_type": "code",
            "execution_count": 23,
            "metadata": {},
            "outputs": [
                {
                    "data": {
                        "text/plain": [
                            "{'tokens': tensor([    0,    15,    72,   904,   253,  2281,   273,  3116,   273,   841,\n",
                            "         29111,   275,   253,  5928,   273,   824, 14221,   513,   417,  5194,\n",
                            "           342,   326,  2326,   275,  3753,   575,   683,    49,   360,   343,\n",
                            "          6961,  1570,  8079,    13,   253,  8813,   273,   824,  5233,  3116,\n",
                            "           949, 40405,  6466,    13,  5183,  1008,    84,  1504, 29982, 12430,\n",
                            "            28,  1214,    35,   886,  6961,    28,  1214,  2374, 31384,  6620,\n",
                            "            62,   285, 18755,   275,  2426,   273,  2685,  9990,  1008,    87,\n",
                            "           706,    76,  6968,   282,  6759,    28,  1214,    49,   360,   343,\n",
                            "          6961,    28,  1214,    42, 10443,  6961,  1092,   310, 26415,   275,\n",
                            "           253,  3745,   273, 33217, 14221,   281,  7278,   253,  2281,   273,\n",
                            "         22959,   875, 15935,  8357,    14,  2003,  3741,    15,   187,   187,\n",
                            "            34,  4619,  8900,    13,  1955,   281, 40392,    13,   475,   292,\n",
                            "           355,  5929,   575,   683,    35,   886,  6961,  1092,   369,   281,\n",
                            "          1089,   253, 10799,  4602,   875,   253, 32540,   313,  9961,   261,\n",
                            "          1179,   272,    10,  3753,   273,   253, 10289, 33217,  2685,   285,\n",
                            "           253, 21702,  3116,   273, 29111,    15,  1244,  2568,   253, 10466,\n",
                            "          5921,   875,   253,  2605,   273,   253,  2685,   285, 36131, 22959,\n",
                            "            14,  1940,  2339,    68,  2979,  4558,  7202,    15,  8079,    13,\n",
                            "           627,   310,  1941,   281,  1804,   326,  2685,  5289,  2647,    15,\n",
                            "          1292,   253,  1953,   310,   849,   285,   672,    32,   187,   187,\n",
                            "           688,   436,  2929,   359,  3662,   436,  1953,  9483,  1242,    13,\n",
                            "          1754,   327,  7000,  1375,    14,  1171,    14,   783,    14,   435,\n",
                            "          1480, 10704,  9938,   313,    37,  4883,    84,   582,   285,   921,\n",
                            "           849,  3405,  1699,  4811,   403, 45654,   625,  3576,   387, 11365,\n",
                            "         22959,   685,   362, 35149,  4394,  1014,   323, 17568,  5939,   475,\n",
                            "           249,   797,   571,    14,  1417,    11,  6353,    15,  3512,  2024,\n",
                            "         41299,  5261,   561,   436, 26210,    13,   417,  3365,   407, 41637,\n",
                            "          4719,    13,   533,   671,   407, 21656,  3629,   253, 15708, 24409,\n",
                            "           275,  3405,  1699, 18192,    15,   831,   310,   984,  3405,  1699,\n",
                            "          4811,   452,   247,  4067,  8394,   273,   475,  2522,    14,   251,\n",
                            "            11,   390,   475,   250,   274,    14,   423,    11, 22959,    13,\n",
                            "           347, 10066,   281,   475,  2189,    14,   251,    11, 22959,    13,\n",
                            "           534,   403, 29039,   275,   362, 35149,  4811,    15, 13162,    13,\n",
                            "           247,  4067,  6919,   273,   253,  7602, 11786,   275,  3405,  1699,\n",
                            "         18192,   310, 15786,   715,   253,  8091,  2746,  7602,    15,  6610,\n",
                            "            13,   285,   954, 13631,   314,    13,   359,   921,   849, 12680,\n",
                            "         37764,  5755,   285,  7372,    13,  8126,   357,  2996,   347, 25584,\n",
                            "            14, 49292,   475, 36141,    14,  1811,    84,  2992,   772, 16695,\n",
                            "           281,  6635,  5233,    13, 12338, 22959,    15,   187,   187,  3138,\n",
                            "            34,  8612, 29679,   273,  1264,    14,  6967, 33183,   273,  2367,\n",
                            "          1588,  1165,   724,  4645, 12680, 25584, 17080,   313,   412, 13734,\n",
                            "          2502,    27, 49938,    22,    15,    23,   393,  2609,   464,  4841,\n",
                            "          1926,  1588,  1165,    63,    19,   889,  3799, 17042, 29275,   264,\n",
                            "           407, 18335,   800,    13,  3405,  1699, 14526,   313,  3675,  5598,\n",
                            "          4797,    27,  9929,    19,   393,  2609,   464,  4841,  1926,  1588,\n",
                            "          1165,    63,    19,   889,  3799, 34942, 16943,  2203,    14,  1968,\n",
                            "           568,   926,    27,    50, 21407,    68, 10148,    50, 21407,    68,\n",
                            "            19,    15,  9275,   910,  3429, 32661,    25,    61, 33237,   986,\n",
                            "           187,   187,  1231,  3103,  1908,   247, 33217,  2685,  3692,  7602,\n",
                            "           669,  5844,  1484,     5,   313, 19091,   281,   253, 15321,   560,\n",
                            "          2322,  7658,   669,  6526,    61,  3830,  1926,  5844,  1484,    94,\n",
                            "           426,   470]),\n",
                            " 'distribution': 'ArXiv'}"
                        ]
                    },
                    "execution_count": 23,
                    "metadata": {},
                    "output_type": "execute_result"
                }
            ],
            "source": [
                "fds[1]"
            ]
        },
        {
            "cell_type": "code",
            "execution_count": null,
            "metadata": {},
            "outputs": [],
            "source": []
        },
        {
            "cell_type": "code",
            "execution_count": null,
            "metadata": {},
            "outputs": [],
            "source": []
        },
        {
            "cell_type": "code",
            "execution_count": null,
            "metadata": {},
            "outputs": [],
            "source": []
        },
        {
            "cell_type": "code",
            "execution_count": null,
            "metadata": {},
            "outputs": [],
            "source": []
        },
        {
            "cell_type": "code",
            "execution_count": null,
            "metadata": {},
            "outputs": [],
            "source": []
        },
        {
            "cell_type": "code",
            "execution_count": null,
            "metadata": {},
            "outputs": [],
            "source": []
        },
        {
            "cell_type": "code",
            "execution_count": null,
            "metadata": {},
            "outputs": [],
            "source": []
        },
        {
            "cell_type": "code",
            "execution_count": null,
            "metadata": {},
            "outputs": [],
            "source": []
        },
        {
            "cell_type": "code",
            "execution_count": null,
            "metadata": {},
            "outputs": [],
            "source": []
        },
        {
            "cell_type": "code",
            "execution_count": null,
            "metadata": {},
            "outputs": [],
            "source": []
        },
        {
            "cell_type": "code",
            "execution_count": null,
            "metadata": {},
            "outputs": [],
            "source": []
        },
        {
            "cell_type": "code",
            "execution_count": null,
            "metadata": {},
            "outputs": [],
            "source": []
        },
        {
            "cell_type": "code",
            "execution_count": null,
            "metadata": {},
            "outputs": [],
            "source": []
        },
        {
            "cell_type": "code",
            "execution_count": null,
            "metadata": {},
            "outputs": [],
            "source": []
        },
        {
            "cell_type": "code",
            "execution_count": null,
            "metadata": {},
            "outputs": [],
            "source": []
        }
    ],
    "metadata": {
        "kernelspec": {
            "display_name": "Python 3.9.7 ('sparprob': venv)",
            "language": "python",
            "name": "python3"
        },
        "language_info": {
            "codemirror_mode": {
                "name": "ipython",
                "version": 3
            },
            "file_extension": ".py",
            "mimetype": "text/x-python",
            "name": "python",
            "nbconvert_exporter": "python",
            "pygments_lexer": "ipython3",
            "version": "3.9.7"
        },
        "orig_nbformat": 4,
        "vscode": {
            "interpreter": {
                "hash": "a23c353b8f126b39e08e10b291cdc446f934514e233cf645ae9c7e400e436e5b"
            }
        }
    },
    "nbformat": 4,
    "nbformat_minor": 2
}